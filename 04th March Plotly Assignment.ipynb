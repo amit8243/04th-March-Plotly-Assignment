{
 "cells": [
  {
   "cell_type": "code",
   "execution_count": null,
   "id": "64bb1635-3ab2-441e-8705-7ccc1aeb46ac",
   "metadata": {},
   "outputs": [],
   "source": [
    "#Plotly Assignment\n",
    "\"\"\"Q1. Load the \"titanic\" dataset using the load_dataset function of seaborn. Use Plotly express to plot\n",
    "a scatter plot for age and fare columns in the titanic dataset.\"\"\"\n",
    "\n",
    "Ans: \n",
    "import seaborn as sns\n",
    "import plotly.express as px\n",
    "\n",
    "titanic = sns.load_dataset('titanic')\n",
    "fig = px.scatter(titanic, x='age', y='fare')\n",
    "fig.show()\n",
    "\n",
    "\"\"\"Q2. Using the tips dataset in the Plotly library, plot a box plot using Plotly express.\"\"\"\n",
    "Ans: \n",
    "import seaborn as sns\n",
    "import plotly.express as px\n",
    "tips = sns.load_dataset('tips')\n",
    "fig = px.box(tips, x='total_bill', y='tip')\n",
    "fig.show()\n",
    "\n",
    "\"\"\"Q3. Using the tips dataset in the Plotly library, Plot a histogram for x= \"sex\" and y=\"total_bill\" \n",
    "column in the tips dataset. Also, use the \"smoker\" column with the pattern_shape parameter and the \"day\"\n",
    "column with the color parameter.\"\"\"\n",
    "\n",
    "Ans: \n",
    "import plotly.express as px\n",
    "fig = px.histogram(tips, x=\"sex\", y=\"total_bill\", color=\"day\", pattern_shape=\"smoker\")\n",
    "fig.show()\n",
    "\n",
    "\"\"\"Q4. Using the iris dataset in the Plotly library, Plot a scatter matrix plot, using the \"species\" \n",
    "column for the color parameter.\n",
    "Note: Use \"sepal_length\", \"sepal_width\", \"petal_length\", \"petal_width\" columns only with the\n",
    "dimensions parameter.\"\"\"\n",
    "\n",
    "Ans: \n",
    "import plotly.express as px\n",
    "iris = px.data.iris()\n",
    "fig = px.scatter_matrix(iris, dimensions=[\"sepal_length\", \"sepal_width\", \"petal_length\", \"petal_width\"], color=\"species\")\n",
    "fig.show()\n",
    "\n",
    "\"\"\"Q5. What is Distplot? Using Plotly express, plot a distplot.\"\"\"\n",
    "Ans: Distplot is a type of plot used to visualize the distribution of a dataset. It combines a histogram\n",
    "and a kernel density estimation plot. Using Plotly Express, the following code can be used to plot a \n",
    "distplot: \n",
    "\n",
    "import plotly.express as px\n",
    "fig = px.histogram(x=data, nbins=50)\n",
    "fig.show()"
   ]
  }
 ],
 "metadata": {
  "kernelspec": {
   "display_name": "Python 3 (ipykernel)",
   "language": "python",
   "name": "python3"
  },
  "language_info": {
   "codemirror_mode": {
    "name": "ipython",
    "version": 3
   },
   "file_extension": ".py",
   "mimetype": "text/x-python",
   "name": "python",
   "nbconvert_exporter": "python",
   "pygments_lexer": "ipython3",
   "version": "3.10.8"
  }
 },
 "nbformat": 4,
 "nbformat_minor": 5
}
